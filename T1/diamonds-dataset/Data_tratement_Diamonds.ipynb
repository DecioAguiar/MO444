{
 "cells": [
  {
   "cell_type": "code",
   "execution_count": 1,
   "metadata": {},
   "outputs": [],
   "source": [
    "%matplotlib inline\n",
    "import numpy as np\n",
    "import pandas as pd\n",
    "import matplotlib.pyplot as plt\n",
    "from SGDRegression import *\n",
    "from BatchRegression import *\n",
    "from MiniBatchRegression import *\n",
    "from NormalRegression import *\n",
    "\n",
    "from sklearn.model_selection import train_test_split"
   ]
  },
  {
   "cell_type": "code",
   "execution_count": 2,
   "metadata": {},
   "outputs": [],
   "source": [
    "\n",
    "data = pd.read_csv('diamonds-train.csv')\n",
    "columns = ['carat','cut','color','clarity','x','y','z','depth','table','price']\n",
    "df = pd.DataFrame(data=data, columns=columns)\n",
    "X = df[['carat','cut','color','clarity','x','y','z','depth','table']]\n",
    "Y = df['price']\n",
    "X_train, X_test, y_train, y_test = train_test_split(X, Y, test_size=0.2)"
   ]
  },
  {
   "cell_type": "code",
   "execution_count": 3,
   "metadata": {},
   "outputs": [
    {
     "name": "stdout",
     "output_type": "stream",
     "text": [
      "(36679, 3)\n",
      "(36679,)\n",
      "(9170, 3)\n"
     ]
    }
   ],
   "source": [
    "xtreino3 = X_train[['x','y','z']]\n",
    "xteste3 = X_test[['x','y','z']]\n",
    "\n",
    "print(xtreino3.shape)\n",
    "print(y_train.shape)\n",
    "print(xteste3.shape)"
   ]
  },
  {
   "cell_type": "code",
   "execution_count": 4,
   "metadata": {},
   "outputs": [
    {
     "name": "stdout",
     "output_type": "stream",
     "text": [
      "[-1717.73661326   474.86980751   426.69199866   222.30262159]\n"
     ]
    },
    {
     "data": {
      "text/plain": [
       "[9088322.553410156]"
      ]
     },
     "execution_count": 4,
     "metadata": {},
     "output_type": "execute_result"
    }
   ],
   "source": [
    "\n",
    "clf = SGDRegression(1, 0.0001)\n",
    "clf.fit(xtreino3, y_train)\n",
    "print(clf.coef) #eq normal [-14097.24845234   2664.28448903    204.45318944    446.90189322]\n",
    "clf.erroHistorico"
   ]
  },
  {
   "cell_type": "code",
   "execution_count": 5,
   "metadata": {},
   "outputs": [
    {
     "data": {
      "text/plain": [
       "array([3078.99750903, 5079.94590519, 4915.82456816, ..., 3674.66466223,\n",
       "       5518.38208814, 4861.53945264])"
      ]
     },
     "execution_count": 5,
     "metadata": {},
     "output_type": "execute_result"
    }
   ],
   "source": [
    "clf.predict(xteste3)"
   ]
  },
  {
   "cell_type": "code",
   "execution_count": 6,
   "metadata": {},
   "outputs": [
    {
     "data": {
      "text/plain": [
       "array([2115.56597078,  353.99353355,  696.9710783 ])"
      ]
     },
     "execution_count": 6,
     "metadata": {},
     "output_type": "execute_result"
    }
   ],
   "source": [
    "from sklearn.linear_model import SGDRegressor\n",
    "regr = SGDRegressor(max_iter=1000, eta0=0.0001)\n",
    "regr.fit(xtreino3, y_train)\n",
    "regr.coef_"
   ]
  }
 ],
 "metadata": {
  "kernelspec": {
   "display_name": "Python 3",
   "language": "python",
   "name": "python3"
  },
  "language_info": {
   "codemirror_mode": {
    "name": "ipython",
    "version": 3
   },
   "file_extension": ".py",
   "mimetype": "text/x-python",
   "name": "python",
   "nbconvert_exporter": "python",
   "pygments_lexer": "ipython3",
   "version": "3.6.5"
  }
 },
 "nbformat": 4,
 "nbformat_minor": 2
}
