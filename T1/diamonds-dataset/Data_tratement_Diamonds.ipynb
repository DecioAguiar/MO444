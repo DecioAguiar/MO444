{
 "cells": [
  {
   "cell_type": "code",
   "execution_count": 1,
   "metadata": {},
   "outputs": [],
   "source": [
    "%matplotlib inline\n",
    "import numpy as np\n",
    "import pandas as pd\n",
    "import matplotlib.pyplot as plt\n",
    "from SGDRegression import *\n",
    "from BatchRegression import *\n",
    "from MiniBatchRegression import *\n",
    "\n",
    "from sklearn.model_selection import train_test_split"
   ]
  },
  {
   "cell_type": "code",
   "execution_count": 2,
   "metadata": {},
   "outputs": [],
   "source": [
    "\n",
    "data = pd.read_csv('diamonds-train.csv')\n",
    "columns = ['carat','cut','color','clarity','x','y','z','depth','table','price']\n",
    "df = pd.DataFrame(data=data, columns=columns)\n",
    "X = df[['carat','cut','color','clarity','x','y','z','depth','table']]\n",
    "Y = df['price']\n",
    "X_train, X_test, y_train, y_test = train_test_split(X, Y, test_size=0.2)\n",
    "\n"
   ]
  },
  {
   "cell_type": "code",
   "execution_count": 3,
   "metadata": {},
   "outputs": [
    {
     "name": "stdout",
     "output_type": "stream",
     "text": [
      "(45849,)\n"
     ]
    }
   ],
   "source": [
    "testei = df[['x','y','z']]\n",
    "testei = pd.DataFrame(testei)\n",
    "y_testei = Y.values\n",
    "print(y_testei.shape)"
   ]
  },
  {
   "cell_type": "code",
   "execution_count": 4,
   "metadata": {},
   "outputs": [
    {
     "data": {
      "text/plain": [
       "array([[-0.49325501, -0.49397176, -0.49337469, -0.49377699, -0.49446248,\n",
       "        -0.49284278, -0.49257657, -0.49328187, -0.4932097 , -0.49327733],\n",
       "       [-0.85309375, -0.85727811, -0.85358155, -0.85656482, -0.86057781,\n",
       "        -0.85103233, -0.84995276, -0.85321506, -0.85259594, -0.85409685],\n",
       "       [-0.1766192 , -0.18080304, -0.17708934, -0.1800901 , -0.1840733 ,\n",
       "        -0.17454061, -0.17346538, -0.17674096, -0.17610104, -0.17758494],\n",
       "       [-1.75316257, -1.75576141, -1.75338834, -1.75527246, -1.75771408,\n",
       "        -1.75184261, -1.75115654, -1.75319416, -1.75280961, -1.7536757 ]])"
      ]
     },
     "execution_count": 4,
     "metadata": {},
     "output_type": "execute_result"
    }
   ],
   "source": [
    "\n",
    "clf = MiniBatchRegression(100, 0.0001)\n",
    "clf.fit(testei, y_testei)\n",
    "clf.coef"
   ]
  },
  {
   "cell_type": "code",
   "execution_count": 5,
   "metadata": {},
   "outputs": [],
   "source": [
    "from sklearn.linear_model import SGDRegressor"
   ]
  },
  {
   "cell_type": "code",
   "execution_count": 6,
   "metadata": {},
   "outputs": [],
   "source": [
    "regr = SGDRegressor(max_iter=1000, eta0=0.0001)"
   ]
  },
  {
   "cell_type": "code",
   "execution_count": 7,
   "metadata": {},
   "outputs": [
    {
     "data": {
      "text/plain": [
       "SGDRegressor(alpha=0.0001, average=False, epsilon=0.1, eta0=0.0001,\n",
       "       fit_intercept=True, l1_ratio=0.15, learning_rate='invscaling',\n",
       "       loss='squared_loss', max_iter=1000, n_iter=None, penalty='l2',\n",
       "       power_t=0.25, random_state=None, shuffle=True, tol=None, verbose=0,\n",
       "       warm_start=False)"
      ]
     },
     "execution_count": 7,
     "metadata": {},
     "output_type": "execute_result"
    }
   ],
   "source": [
    "regr.fit(testei, y_testei)"
   ]
  },
  {
   "cell_type": "code",
   "execution_count": 8,
   "metadata": {},
   "outputs": [
    {
     "data": {
      "text/plain": [
       "array([2172.56380589,  400.57290025,  674.75680449])"
      ]
     },
     "execution_count": 8,
     "metadata": {},
     "output_type": "execute_result"
    }
   ],
   "source": [
    "regr.coef_"
   ]
  }
 ],
 "metadata": {
  "kernelspec": {
   "display_name": "Python 3",
   "language": "python",
   "name": "python3"
  },
  "language_info": {
   "codemirror_mode": {
    "name": "ipython",
    "version": 3
   },
   "file_extension": ".py",
   "mimetype": "text/x-python",
   "name": "python",
   "nbconvert_exporter": "python",
   "pygments_lexer": "ipython3",
   "version": "3.6.5"
  }
 },
 "nbformat": 4,
 "nbformat_minor": 2
}
