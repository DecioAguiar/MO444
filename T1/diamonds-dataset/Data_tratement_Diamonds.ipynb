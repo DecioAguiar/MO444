{
 "cells": [
  {
   "cell_type": "code",
   "execution_count": 1,
   "metadata": {},
   "outputs": [],
   "source": [
    "%matplotlib inline\n",
    "import numpy as np\n",
    "import pandas as pd\n",
    "import matplotlib.pyplot as plt\n",
    "from SGDRegression import *\n",
    "from BatchRegression import *\n",
    "from MiniBatchRegression import *\n",
    "from NormalRegression import *\n",
    "\n",
    "from sklearn.model_selection import train_test_split"
   ]
  },
  {
   "cell_type": "code",
   "execution_count": 2,
   "metadata": {},
   "outputs": [],
   "source": [
    "\n",
    "data = pd.read_csv('diamonds-train.csv')\n",
    "columns = ['carat','cut','color','clarity','x','y','z','depth','table','price']\n",
    "df = pd.DataFrame(data=data, columns=columns)\n",
    "X = df[['carat','cut','color','clarity','x','y','z','depth','table']]\n",
    "Y = df['price']\n",
    "X_train, X_test, y_train, y_test = train_test_split(X, Y, test_size=0.2)\n",
    "\n"
   ]
  },
  {
   "cell_type": "code",
   "execution_count": 3,
   "metadata": {},
   "outputs": [],
   "source": [
    "testei = df[['x','y','z']]\n",
    "testei = pd.DataFrame(testei)\n",
    "y_testei = Y.values"
   ]
  },
  {
   "cell_type": "code",
   "execution_count": 4,
   "metadata": {},
   "outputs": [
    {
     "name": "stdout",
     "output_type": "stream",
     "text": [
      "[[-13631.96728748]\n",
      " [  2202.04586276]\n",
      " [   409.40028793]\n",
      " [   625.65395495]]\n"
     ]
    },
    {
     "data": {
      "text/plain": [
       "[8794775.393154291,\n",
       " 7287853.92063816,\n",
       " 6200433.576607728,\n",
       " 5436098.933174793,\n",
       " 4895927.661821563,\n",
       " 4484309.895779084,\n",
       " 4212790.229721093,\n",
       " 4327308.667252717,\n",
       " 3840913.7740358626,\n",
       " 3733615.8676342084,\n",
       " 3679187.5674158894,\n",
       " 3599821.41857362,\n",
       " 3706894.927065109,\n",
       " 3530115.1690291893,\n",
       " 3533932.449843599,\n",
       " 3485207.5011678836,\n",
       " 3471668.2868880597,\n",
       " 3467201.079207135,\n",
       " 3457961.7188878525,\n",
       " 3621279.5810514125]"
      ]
     },
     "execution_count": 4,
     "metadata": {},
     "output_type": "execute_result"
    }
   ],
   "source": [
    "\n",
    "clf = SGDRegression(20, 0.0001)\n",
    "clf.fit(testei, y_testei)\n",
    "print(clf.coef) #eq normal [-14147.78676851   2619.61962471    234.80925132    486.31890818]\n",
    "clf.erroHistorico"
   ]
  },
  {
   "cell_type": "code",
   "execution_count": 5,
   "metadata": {},
   "outputs": [],
   "source": [
    "from sklearn.linear_model import SGDRegressor"
   ]
  },
  {
   "cell_type": "code",
   "execution_count": 6,
   "metadata": {},
   "outputs": [],
   "source": [
    "regr = SGDRegressor(max_iter=1000, eta0=0.0001)"
   ]
  },
  {
   "cell_type": "code",
   "execution_count": 7,
   "metadata": {},
   "outputs": [
    {
     "data": {
      "text/plain": [
       "SGDRegressor(alpha=0.0001, average=False, epsilon=0.1, eta0=0.0001,\n",
       "       fit_intercept=True, l1_ratio=0.15, learning_rate='invscaling',\n",
       "       loss='squared_loss', max_iter=1000, n_iter=None, penalty='l2',\n",
       "       power_t=0.25, random_state=None, shuffle=True, tol=None, verbose=0,\n",
       "       warm_start=False)"
      ]
     },
     "execution_count": 7,
     "metadata": {},
     "output_type": "execute_result"
    }
   ],
   "source": [
    "regr.fit(testei, y_testei)"
   ]
  },
  {
   "cell_type": "code",
   "execution_count": 8,
   "metadata": {},
   "outputs": [
    {
     "data": {
      "text/plain": [
       "array([2172.84879234,  401.19332299,  675.38068932])"
      ]
     },
     "execution_count": 8,
     "metadata": {},
     "output_type": "execute_result"
    }
   ],
   "source": [
    "regr.coef_"
   ]
  }
 ],
 "metadata": {
  "kernelspec": {
   "display_name": "Python 3",
   "language": "python",
   "name": "python3"
  },
  "language_info": {
   "codemirror_mode": {
    "name": "ipython",
    "version": 3
   },
   "file_extension": ".py",
   "mimetype": "text/x-python",
   "name": "python",
   "nbconvert_exporter": "python",
   "pygments_lexer": "ipython3",
   "version": "3.6.5"
  }
 },
 "nbformat": 4,
 "nbformat_minor": 2
}
