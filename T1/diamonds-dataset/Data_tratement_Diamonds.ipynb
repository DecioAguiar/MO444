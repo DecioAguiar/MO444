{
 "cells": [
  {
   "cell_type": "code",
   "execution_count": 1,
   "metadata": {},
   "outputs": [],
   "source": [
    "%matplotlib inline\n",
    "import numpy as np\n",
    "import pandas as pd\n",
    "import matplotlib.pyplot as plt\n",
    "from SGDRegression import *\n",
    "from BatchRegression import *\n",
    "from MiniBatchRegression import *\n",
    "from NormalRegression import *\n",
    "\n",
    "from sklearn.model_selection import train_test_split\n",
    "from sklearn.preprocessing import normalize\n",
    "from sklearn.linear_model import SGDRegressor"
   ]
  },
  {
   "cell_type": "code",
   "execution_count": 2,
   "metadata": {},
   "outputs": [],
   "source": [
    "\n",
    "data = pd.read_csv('diamonds-train.csv')\n",
    "columns = ['carat','cut','color','clarity','x','y','z','depth','table','price']\n",
    "df = pd.DataFrame(data=data, columns=columns)\n",
    "X = df[['carat','cut','color','clarity','x','y','z','depth','table']]\n",
    "Y = df['price']"
   ]
  },
  {
   "cell_type": "code",
   "execution_count": 3,
   "metadata": {},
   "outputs": [
    {
     "name": "stderr",
     "output_type": "stream",
     "text": [
      "/home/salathiel/anaconda3/lib/python3.6/site-packages/pandas/core/generic.py:5817: SettingWithCopyWarning: \n",
      "A value is trying to be set on a copy of a slice from a DataFrame.\n",
      "Try using .loc[row_indexer,col_indexer] = value instead\n",
      "\n",
      "See the caveats in the documentation: http://pandas.pydata.org/pandas-docs/stable/indexing.html#indexing-view-versus-copy\n",
      "  regex=regex)\n"
     ]
    }
   ],
   "source": [
    "cleanup_nums = {\"color\":     {\"D\":7, \"E\": 6, \"F\":5, \"G\":4, \"H\":3, \"I\":2, \"J\":1},\n",
    "                \"cut\": {\"Fair\": 1, \"Good\":2, \"Very Good\":3, \"Premium\":4,\n",
    "                                  \"Ideal\":5 },\n",
    "                \"clarity\": {\"I1\":0, \"SI2\":1, \"SI1\":2, \"VS2\":3, \"VS1\":4, \"VVS2\":5, \"VVS1\":6, \"IF\":7}}\n",
    "\n",
    "X.replace(cleanup_nums, inplace=True)"
   ]
  },
  {
   "cell_type": "code",
   "execution_count": 4,
   "metadata": {},
   "outputs": [],
   "source": [
    "x_train, x_test, y_train, y_test = train_test_split(X, Y, test_size=0.8)"
   ]
  },
  {
   "cell_type": "code",
   "execution_count": 5,
   "metadata": {},
   "outputs": [
    {
     "data": {
      "text/html": [
       "<div>\n",
       "<style scoped>\n",
       "    .dataframe tbody tr th:only-of-type {\n",
       "        vertical-align: middle;\n",
       "    }\n",
       "\n",
       "    .dataframe tbody tr th {\n",
       "        vertical-align: top;\n",
       "    }\n",
       "\n",
       "    .dataframe thead th {\n",
       "        text-align: right;\n",
       "    }\n",
       "</style>\n",
       "<table border=\"1\" class=\"dataframe\">\n",
       "  <thead>\n",
       "    <tr style=\"text-align: right;\">\n",
       "      <th></th>\n",
       "      <th>carat</th>\n",
       "      <th>cut</th>\n",
       "      <th>color</th>\n",
       "      <th>clarity</th>\n",
       "      <th>x</th>\n",
       "      <th>y</th>\n",
       "      <th>z</th>\n",
       "      <th>depth</th>\n",
       "      <th>table</th>\n",
       "    </tr>\n",
       "  </thead>\n",
       "  <tbody>\n",
       "    <tr>\n",
       "      <th>20245</th>\n",
       "      <td>0.32</td>\n",
       "      <td>5</td>\n",
       "      <td>4</td>\n",
       "      <td>1</td>\n",
       "      <td>4.35</td>\n",
       "      <td>4.32</td>\n",
       "      <td>2.73</td>\n",
       "      <td>63.0</td>\n",
       "      <td>56.0</td>\n",
       "    </tr>\n",
       "    <tr>\n",
       "      <th>41310</th>\n",
       "      <td>1.01</td>\n",
       "      <td>4</td>\n",
       "      <td>5</td>\n",
       "      <td>2</td>\n",
       "      <td>6.41</td>\n",
       "      <td>6.34</td>\n",
       "      <td>3.94</td>\n",
       "      <td>61.8</td>\n",
       "      <td>59.0</td>\n",
       "    </tr>\n",
       "    <tr>\n",
       "      <th>31708</th>\n",
       "      <td>0.59</td>\n",
       "      <td>5</td>\n",
       "      <td>5</td>\n",
       "      <td>6</td>\n",
       "      <td>5.36</td>\n",
       "      <td>5.38</td>\n",
       "      <td>3.35</td>\n",
       "      <td>62.4</td>\n",
       "      <td>56.0</td>\n",
       "    </tr>\n",
       "    <tr>\n",
       "      <th>27992</th>\n",
       "      <td>1.23</td>\n",
       "      <td>5</td>\n",
       "      <td>3</td>\n",
       "      <td>7</td>\n",
       "      <td>6.87</td>\n",
       "      <td>6.92</td>\n",
       "      <td>4.23</td>\n",
       "      <td>61.3</td>\n",
       "      <td>57.0</td>\n",
       "    </tr>\n",
       "    <tr>\n",
       "      <th>26771</th>\n",
       "      <td>0.32</td>\n",
       "      <td>5</td>\n",
       "      <td>4</td>\n",
       "      <td>4</td>\n",
       "      <td>4.38</td>\n",
       "      <td>4.41</td>\n",
       "      <td>2.73</td>\n",
       "      <td>62.1</td>\n",
       "      <td>55.0</td>\n",
       "    </tr>\n",
       "  </tbody>\n",
       "</table>\n",
       "</div>"
      ],
      "text/plain": [
       "       carat  cut  color  clarity     x     y     z  depth  table\n",
       "20245   0.32    5      4        1  4.35  4.32  2.73   63.0   56.0\n",
       "41310   1.01    4      5        2  6.41  6.34  3.94   61.8   59.0\n",
       "31708   0.59    5      5        6  5.36  5.38  3.35   62.4   56.0\n",
       "27992   1.23    5      3        7  6.87  6.92  4.23   61.3   57.0\n",
       "26771   0.32    5      4        4  4.38  4.41  2.73   62.1   55.0"
      ]
     },
     "execution_count": 5,
     "metadata": {},
     "output_type": "execute_result"
    }
   ],
   "source": [
    "#normalizacao\n",
    "#x_train['carat'] = normalize(x_train[['carat']].T).T\n",
    "#x_train['x'] = normalize(x_train[['x']].T).T\n",
    "#x_train['y'] = normalize(x_train[['y']].T).T\n",
    "#x_train['z'] = normalize(x_train[['z']].T).T\n",
    "#x_train['depth'] = normalize(x_train[['depth']].T).T\n",
    "#x_train['table'] = normalize(x_train[['table']].T).T\n",
    "#x_train['cut'] = normalize(x_train[['cut']].T).T\n",
    "#x_train['color'] = normalize(x_train[['color']].T).T\n",
    "#x_train['clarity'] = normalize(x_train[['clarity']].T).T\n",
    "x_train.head()"
   ]
  },
  {
   "cell_type": "code",
   "execution_count": 6,
   "metadata": {},
   "outputs": [
    {
     "name": "stdout",
     "output_type": "stream",
     "text": [
      "CPU times: user 35min 11s, sys: 1min 3s, total: 36min 15s\n",
      "Wall time: 18min 8s\n"
     ]
    }
   ],
   "source": [
    "%%time\n",
    "clf = SGDRegression(100, 0.0001)\n",
    "clf.fit(x_train, y_train)\n",
    "#print(clf.coef)\n",
    "#np.save(\"erroSGD\",clf.erroHistorico)"
   ]
  },
  {
   "cell_type": "code",
   "execution_count": 7,
   "metadata": {},
   "outputs": [],
   "source": [
    "#clf = NormalRegression()\n",
    "#clf.fit(x_train, y_train)\n",
    "#print(clf.coef)"
   ]
  },
  {
   "cell_type": "code",
   "execution_count": 8,
   "metadata": {},
   "outputs": [],
   "source": [
    "#clf.predict(xteste3)"
   ]
  },
  {
   "cell_type": "code",
   "execution_count": 9,
   "metadata": {},
   "outputs": [],
   "source": [
    "#%%time\n",
    "#regr = SGDRegressor(max_iter=90000, eta0=0.0001)\n",
    "#regr.fit(x_train, y_train)\n",
    "#regr.coef_"
   ]
  },
  {
   "cell_type": "code",
   "execution_count": 10,
   "metadata": {},
   "outputs": [],
   "source": [
    "#erroBatch = np.load(\"erroSGD.npy\")\n",
    "#print(erroBatch)"
   ]
  },
  {
   "cell_type": "code",
   "execution_count": 13,
   "metadata": {},
   "outputs": [
    {
     "data": {
      "image/png": "[encoded data removed]",
      "text/plain": [
       "<Figure size 432x288 with 1 Axes>"
      ]
     },
     "metadata": {},
     "output_type": "display_data"
    }
   ],
   "source": [
    "import matplotlib.pyplot as plt\n",
    "erroSGD = np.load(\"erroSGD.npy\")\n",
    "erroSGDNormalizado = np.load(\"erroSGDNormalizado.npy\")\n",
    "plt.plot(np.arange(10000), erroSGD, color='blue', linewidth=3)\n",
    "plt.plot(np.arange(10000), erroSGDNormalizado, color='red', linewidth=3)\n",
    "plt.xticks()\n",
    "plt.yticks()\n",
    "\n",
    "plt.show()"
   ]
  }
 ],
 "metadata": {
  "kernelspec": {
   "display_name": "Python 3",
   "language": "python",
   "name": "python3"
  },
  "language_info": {
   "codemirror_mode": {
    "name": "ipython",
    "version": 3
   },
   "file_extension": ".py",
   "mimetype": "text/x-python",
   "name": "python",
   "nbconvert_exporter": "python",
   "pygments_lexer": "ipython3",
   "version": "3.6.5"
  }
 },
 "nbformat": 4,
 "nbformat_minor": 2
}
