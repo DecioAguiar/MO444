{
 "cells": [
  {
   "cell_type": "code",
   "execution_count": 1,
   "metadata": {},
   "outputs": [],
   "source": [
    "%matplotlib inline\n",
    "import numpy as np\n",
    "import pandas as pd\n",
    "import matplotlib.pyplot as plt\n",
    "from SGDRegression import *\n",
    "from BatchRegression import *\n",
    "from MiniBatchRegression import *\n",
    "from NormalRegression import *\n",
    "\n",
    "from sklearn.model_selection import train_test_split"
   ]
  },
  {
   "cell_type": "code",
   "execution_count": 2,
   "metadata": {},
   "outputs": [],
   "source": [
    "\n",
    "data = pd.read_csv('diamonds-train.csv')\n",
    "columns = ['carat','cut','color','clarity','x','y','z','depth','table','price']\n",
    "df = pd.DataFrame(data=data, columns=columns)\n",
    "X = df[['carat','cut','color','clarity','x','y','z','depth','table']]\n",
    "Y = df['price']"
   ]
  },
  {
   "cell_type": "code",
   "execution_count": 3,
   "metadata": {},
   "outputs": [
    {
     "name": "stderr",
     "output_type": "stream",
     "text": [
      "/home/salathiel/anaconda3/lib/python3.6/site-packages/pandas/core/generic.py:5817: SettingWithCopyWarning: \n",
      "A value is trying to be set on a copy of a slice from a DataFrame.\n",
      "Try using .loc[row_indexer,col_indexer] = value instead\n",
      "\n",
      "See the caveats in the documentation: http://pandas.pydata.org/pandas-docs/stable/indexing.html#indexing-view-versus-copy\n",
      "  regex=regex)\n"
     ]
    },
    {
     "data": {
      "text/html": [
       "<div>\n",
       "<style scoped>\n",
       "    .dataframe tbody tr th:only-of-type {\n",
       "        vertical-align: middle;\n",
       "    }\n",
       "\n",
       "    .dataframe tbody tr th {\n",
       "        vertical-align: top;\n",
       "    }\n",
       "\n",
       "    .dataframe thead th {\n",
       "        text-align: right;\n",
       "    }\n",
       "</style>\n",
       "<table border=\"1\" class=\"dataframe\">\n",
       "  <thead>\n",
       "    <tr style=\"text-align: right;\">\n",
       "      <th></th>\n",
       "      <th>carat</th>\n",
       "      <th>cut</th>\n",
       "      <th>color</th>\n",
       "      <th>clarity</th>\n",
       "      <th>x</th>\n",
       "      <th>y</th>\n",
       "      <th>z</th>\n",
       "      <th>depth</th>\n",
       "      <th>table</th>\n",
       "    </tr>\n",
       "  </thead>\n",
       "  <tbody>\n",
       "    <tr>\n",
       "      <th>0</th>\n",
       "      <td>1.62</td>\n",
       "      <td>5</td>\n",
       "      <td>2</td>\n",
       "      <td>3</td>\n",
       "      <td>7.53</td>\n",
       "      <td>7.58</td>\n",
       "      <td>4.69</td>\n",
       "      <td>62.1</td>\n",
       "      <td>55.0</td>\n",
       "    </tr>\n",
       "    <tr>\n",
       "      <th>1</th>\n",
       "      <td>0.30</td>\n",
       "      <td>4</td>\n",
       "      <td>4</td>\n",
       "      <td>2</td>\n",
       "      <td>4.39</td>\n",
       "      <td>4.35</td>\n",
       "      <td>2.57</td>\n",
       "      <td>58.8</td>\n",
       "      <td>60.0</td>\n",
       "    </tr>\n",
       "    <tr>\n",
       "      <th>2</th>\n",
       "      <td>1.37</td>\n",
       "      <td>5</td>\n",
       "      <td>5</td>\n",
       "      <td>4</td>\n",
       "      <td>7.28</td>\n",
       "      <td>7.22</td>\n",
       "      <td>4.32</td>\n",
       "      <td>59.6</td>\n",
       "      <td>57.0</td>\n",
       "    </tr>\n",
       "    <tr>\n",
       "      <th>3</th>\n",
       "      <td>0.33</td>\n",
       "      <td>1</td>\n",
       "      <td>3</td>\n",
       "      <td>5</td>\n",
       "      <td>4.40</td>\n",
       "      <td>4.32</td>\n",
       "      <td>2.84</td>\n",
       "      <td>65.1</td>\n",
       "      <td>59.0</td>\n",
       "    </tr>\n",
       "    <tr>\n",
       "      <th>4</th>\n",
       "      <td>0.32</td>\n",
       "      <td>3</td>\n",
       "      <td>5</td>\n",
       "      <td>3</td>\n",
       "      <td>4.43</td>\n",
       "      <td>4.48</td>\n",
       "      <td>2.62</td>\n",
       "      <td>58.8</td>\n",
       "      <td>62.0</td>\n",
       "    </tr>\n",
       "  </tbody>\n",
       "</table>\n",
       "</div>"
      ],
      "text/plain": [
       "   carat  cut  color  clarity     x     y     z  depth  table\n",
       "0   1.62    5      2        3  7.53  7.58  4.69   62.1   55.0\n",
       "1   0.30    4      4        2  4.39  4.35  2.57   58.8   60.0\n",
       "2   1.37    5      5        4  7.28  7.22  4.32   59.6   57.0\n",
       "3   0.33    1      3        5  4.40  4.32  2.84   65.1   59.0\n",
       "4   0.32    3      5        3  4.43  4.48  2.62   58.8   62.0"
      ]
     },
     "execution_count": 3,
     "metadata": {},
     "output_type": "execute_result"
    }
   ],
   "source": [
    "cleanup_nums = {\"color\":     {\"D\":7, \"E\": 6, \"F\":5, \"G\":4, \"H\":3, \"I\":2, \"J\":1},\n",
    "                \"cut\": {\"Fair\": 1, \"Good\":2, \"Very Good\":3, \"Premium\":4,\n",
    "                                  \"Ideal\":5 },\n",
    "                \"clarity\": {\"I1\":0, \"SI2\":1, \"SI1\":2, \"VS2\":3, \"VS1\":4, \"VVS2\":5, \"VVS1\":6, \"IF\":7}}\n",
    "\n",
    "X.replace(cleanup_nums, inplace=True)\n",
    "X.head()"
   ]
  },
  {
   "cell_type": "code",
   "execution_count": 4,
   "metadata": {},
   "outputs": [],
   "source": [
    "x_train, x_test, y_train, y_test = train_test_split(X, Y, test_size=0.15)"
   ]
  },
  {
   "cell_type": "code",
   "execution_count": 5,
   "metadata": {},
   "outputs": [
    {
     "name": "stdout",
     "output_type": "stream",
     "text": [
      "[  -6.03769564  616.79041842   14.99215612   69.65955707  275.73442838\n",
      " 1227.10350148 1170.85962043  752.89442723 -144.91515395  -90.80183485]\n"
     ]
    }
   ],
   "source": [
    "clf = BatchRegression(10000, 0.0001)\n",
    "clf.fit(x_train, y_train)\n",
    "print(clf.coef) #eq normal [-14097.24845234   2664.28448903    204.45318944    446.90189322]\n",
    "np.save(\"erroBatch\",clf.erroHistorico)"
   ]
  },
  {
   "cell_type": "code",
   "execution_count": 6,
   "metadata": {},
   "outputs": [],
   "source": [
    "#clf.predict(xteste3)"
   ]
  },
  {
   "cell_type": "code",
   "execution_count": 7,
   "metadata": {},
   "outputs": [],
   "source": [
    "#from sklearn.linear_model import SGDRegressor\n",
    "#regr = SGDRegressor(max_iter=100, eta0=0.0001)\n",
    "#regr.fit(xtreino3, y_train)\n",
    "#regr.coef_"
   ]
  }
 ],
 "metadata": {
  "kernelspec": {
   "display_name": "Python 3",
   "language": "python",
   "name": "python3"
  },
  "language_info": {
   "codemirror_mode": {
    "name": "ipython",
    "version": 3
   },
   "file_extension": ".py",
   "mimetype": "text/x-python",
   "name": "python",
   "nbconvert_exporter": "python",
   "pygments_lexer": "ipython3",
   "version": "3.6.5"
  }
 },
 "nbformat": 4,
 "nbformat_minor": 2
}
